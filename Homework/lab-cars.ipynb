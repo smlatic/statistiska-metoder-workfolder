{
 "cells": [
  {
   "cell_type": "code",
   "execution_count": 4,
   "metadata": {},
   "outputs": [],
   "source": [
    "import pandas as pd"
   ]
  },
  {
   "cell_type": "code",
   "execution_count": 10,
   "metadata": {},
   "outputs": [
    {
     "data": {
      "text/plain": [
       "(    mpg  cylinders  displacement horsepower  weight  acceleration  model year  \\\n",
       " 0  18.0          8         307.0        130    3504          12.0          70   \n",
       " 1  15.0          8         350.0        165    3693          11.5          70   \n",
       " 2  18.0          8         318.0        150    3436          11.0          70   \n",
       " 3  16.0          8         304.0        150    3433          12.0          70   \n",
       " 4  17.0          8         302.0        140    3449          10.5          70   \n",
       " \n",
       "    origin                   car name  \n",
       " 0       1  chevrolet chevelle malibu  \n",
       " 1       1          buick skylark 320  \n",
       " 2       1         plymouth satellite  \n",
       " 3       1              amc rebel sst  \n",
       " 4       1                ford torino  ,\n",
       "               mpg   cylinders  displacement       weight  acceleration  \\\n",
       " count  398.000000  398.000000    398.000000   398.000000    398.000000   \n",
       " mean    23.514573    5.454774    193.425879  2970.424623     15.568090   \n",
       " std      7.815984    1.701004    104.269838   846.841774      2.757689   \n",
       " min      9.000000    3.000000     68.000000  1613.000000      8.000000   \n",
       " 25%     17.500000    4.000000    104.250000  2223.750000     13.825000   \n",
       " 50%     23.000000    4.000000    148.500000  2803.500000     15.500000   \n",
       " 75%     29.000000    8.000000    262.000000  3608.000000     17.175000   \n",
       " max     46.600000    8.000000    455.000000  5140.000000     24.800000   \n",
       " \n",
       "        model year      origin  \n",
       " count  398.000000  398.000000  \n",
       " mean    76.010050    1.572864  \n",
       " std      3.697627    0.802055  \n",
       " min     70.000000    1.000000  \n",
       " 25%     73.000000    1.000000  \n",
       " 50%     76.000000    1.000000  \n",
       " 75%     79.000000    2.000000  \n",
       " max     82.000000    3.000000  )"
      ]
     },
     "execution_count": 10,
     "metadata": {},
     "output_type": "execute_result"
    }
   ],
   "source": [
    "df = pd.read_csv(\"auto-mpg.csv\")\n",
    "df.head(), df.describe()\n"
   ]
  },
  {
   "cell_type": "code",
   "execution_count": null,
   "metadata": {},
   "outputs": [],
   "source": []
  }
 ],
 "metadata": {
  "kernelspec": {
   "display_name": "Python 3",
   "language": "python",
   "name": "python3"
  },
  "language_info": {
   "codemirror_mode": {
    "name": "ipython",
    "version": 3
   },
   "file_extension": ".py",
   "mimetype": "text/x-python",
   "name": "python",
   "nbconvert_exporter": "python",
   "pygments_lexer": "ipython3",
   "version": "3.11.1"
  },
  "orig_nbformat": 4,
  "vscode": {
   "interpreter": {
    "hash": "5a826182ff2e370e00dfcd71450be1d8fc0130e4d4493a18c1eb4190f83b611e"
   }
  }
 },
 "nbformat": 4,
 "nbformat_minor": 2
}
